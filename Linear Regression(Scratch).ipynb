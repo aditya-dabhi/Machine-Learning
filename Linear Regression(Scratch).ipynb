{
 "cells": [
  {
   "cell_type": "code",
   "execution_count": 2,
   "metadata": {},
   "outputs": [
    {
     "data": {
      "text/plain": [
       "<Figure size 1200x900 with 1 Axes>"
      ]
     },
     "metadata": {},
     "output_type": "display_data"
    }
   ],
   "source": [
    "import numpy as np\n",
    "import pandas as pd\n",
    "import matplotlib.pyplot as plt\n",
    "plt.rcParams['figure.figsize']=(12.0,9.0)\n",
    "\n",
    "\n",
    "data = pd.read_csv('data.csv')\n",
    "X = data.iloc[:,0]\n",
    "Y = data.iloc[:,1]\n",
    "plt.scatter(X,Y)\n",
    "plt.show()"
   ]
  },
  {
   "cell_type": "code",
   "execution_count": 3,
   "metadata": {},
   "outputs": [
    {
     "data": {
      "text/plain": [
       "0     53.426804\n",
       "1     61.530358\n",
       "2     47.475640\n",
       "3     59.813208\n",
       "4     55.142188\n",
       "        ...    \n",
       "94    50.030174\n",
       "95    49.239765\n",
       "96    50.039576\n",
       "97    48.149859\n",
       "98    25.128485\n",
       "Name: 32.502345269453031, Length: 99, dtype: float64"
      ]
     },
     "execution_count": 3,
     "metadata": {},
     "output_type": "execute_result"
    }
   ],
   "source": [
    "X"
   ]
  },
  {
   "cell_type": "code",
   "execution_count": 4,
   "metadata": {},
   "outputs": [
    {
     "data": {
      "text/plain": [
       "0     68.777596\n",
       "1     62.562382\n",
       "2     71.546632\n",
       "3     87.230925\n",
       "4     78.211518\n",
       "        ...    \n",
       "94    81.536991\n",
       "95    72.111832\n",
       "96    85.232007\n",
       "97    66.224958\n",
       "98    53.454394\n",
       "Name: 31.70700584656992, Length: 99, dtype: float64"
      ]
     },
     "execution_count": 4,
     "metadata": {},
     "output_type": "execute_result"
    }
   ],
   "source": [
    "Y"
   ]
  },
  {
   "cell_type": "code",
   "execution_count": 5,
   "metadata": {},
   "outputs": [
    {
     "data": {
      "image/png": "[encoded data removed]",
      "text/plain": [
       "<Figure size 432x288 with 1 Axes>"
      ]
     },
     "metadata": {
      "needs_background": "light"
     },
     "output_type": "display_data"
    }
   ],
   "source": [
    "plt.scatter(X, Y)\n",
    "plt.show()"
   ]
  },
  {
   "cell_type": "code",
   "execution_count": 6,
   "metadata": {},
   "outputs": [
    {
     "name": "stdout",
     "output_type": "stream",
     "text": [
      "1.4796491688889395 0.10148121494753726\n"
     ]
    },
    {
     "data": {
      "text/plain": [
       "0     79.154411\n",
       "1     91.144839\n",
       "2     70.348767\n",
       "3     88.604057\n",
       "4     81.692580\n",
       "        ...    \n",
       "94    74.128586\n",
       "95    72.959057\n",
       "96    74.142497\n",
       "97    71.346376\n",
       "98    37.282786\n",
       "Name: 32.502345269453031, Length: 99, dtype: float64"
      ]
     },
     "execution_count": 6,
     "metadata": {},
     "output_type": "execute_result"
    }
   ],
   "source": [
    "m = 0\n",
    "c = 0\n",
    "\n",
    "learning_rate=0.0001\n",
    "iterations = 1000\n",
    "\n",
    "n = float(len(X))\n",
    "\n",
    "for i in range(iterations) :\n",
    "    Y_pred = m*X + c\n",
    "    D_m = (-2/n)*sum(X*(Y-Y_pred))\n",
    "    D_c = (-2/n)*sum(Y-Y_pred)\n",
    "    m = m - (learning_rate*D_m)\n",
    "    c = c - (learning_rate*D_c)\n",
    "\n",
    "print(m, c)\n",
    "Y_pred"
   ]
  },
  {
   "cell_type": "code",
   "execution_count": 7,
   "metadata": {},
   "outputs": [
    {
     "data": {
      "image/png": "[encoded data removed]",
      "text/plain": [
       "<Figure size 432x288 with 1 Axes>"
      ]
     },
     "metadata": {
      "needs_background": "light"
     },
     "output_type": "display_data"
    }
   ],
   "source": [
    "Y_pred = m*X+c\n",
    "\n",
    "plt.scatter(X,Y)\n",
    "plt.plot([min(X), max(X)], [min(Y_pred), max(Y_pred)], color=\"red\")\n",
    "plt.show()"
   ]
  },
  {
   "cell_type": "code",
   "execution_count": 8,
   "metadata": {},
   "outputs": [
    {
     "name": "stdout",
     "output_type": "stream",
     "text": [
      "5611.16615382391\n"
     ]
    }
   ],
   "source": [
    "error_initial = np.sum(Y**2)/len(X)\n",
    "print(error_initial)"
   ]
  },
  {
   "cell_type": "code",
   "execution_count": 10,
   "metadata": {},
   "outputs": [
    {
     "name": "stdout",
     "output_type": "stream",
     "text": [
      "111.01093662287161\n"
     ]
    }
   ],
   "source": [
    "error_final = np.sum((Y - (m*X+c))**2)/len(X)\n",
    "print(error_final)"
   ]
  },
  {
   "cell_type": "code",
   "execution_count": null,
   "metadata": {},
   "outputs": [],
   "source": []
  }
 ],
 "metadata": {
  "kernelspec": {
   "display_name": "Python 3",
   "language": "python",
   "name": "python3"
  },
  "language_info": {
   "codemirror_mode": {
    "name": "ipython",
    "version": 3
   },
   "file_extension": ".py",
   "mimetype": "text/x-python",
   "name": "python",
   "nbconvert_exporter": "python",
   "pygments_lexer": "ipython3",
   "version": "3.7.4"
  }
 },
 "nbformat": 4,
 "nbformat_minor": 2
}
